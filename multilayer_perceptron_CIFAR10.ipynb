{
 "cells": [
  {
   "cell_type": "markdown",
   "metadata": {},
   "source": [
    "The aim of this exercise is to train you in debugging networks using the good old print function and also tensorboard. To simulate poor training, we will train a multilayer perceptron using the CIFAR data.\n",
    "\n",
    "1. Use the CIFAR data set reader from the first homework and read the CIFAR-10 files again. \n",
    "2. Apply random noise to the image \n",
    "3. Convert the image to float and scale to [0.0, 1.0] by dividing the pixel values by the highest pixel value.\n",
    "4. Convert all labels to onehot encoding\n",
    "5. Build a 3-layer multilayer perceptron of size [512, 256, 128]. \n",
    "6. Create a tensorboard summary for plotting the histogram of the weights of the three layers.\n",
    "7. Also write the cost / loss at the end of each epoch to tensorboard.\n",
    "8. Train the network with learning rates of [0.1, 0.01, 0.001]. You will notice that the network will not converge well.\n",
    "9. Submit the snapshot of the histograms for the three learning rates. Describe your observations.\n",
    "\n",
    "NOTE: Please submit only ipynb files."
   ]
  },
  {
   "cell_type": "code",
   "execution_count": null,
   "metadata": {},
   "outputs": [],
   "source": [
    "import glob\n",
    "import os\n",
    "import math\n",
    "import numpy as np\n",
    "import operator\n",
    "import functools\n",
    "import random\n",
    "import datetime\n",
    "import tensorflow as tf\n",
    "import matplotlib.pyplot as plt\n",
    "from scipy.ndimage.interpolation import rotate, shift, zoom"
   ]
  },
  {
   "cell_type": "code",
   "execution_count": null,
   "metadata": {},
   "outputs": [],
   "source": [
    "random.seed(3457)"
   ]
  },
  {
   "cell_type": "code",
   "execution_count": null,
   "metadata": {},
   "outputs": [],
   "source": [
    "# Hyper-parameters\n",
    "learningrate = 0.001\n",
    "\n",
    "nhidden1 = 512\n",
    "nhidden2 = 256 \n",
    "nhidden3 = 128\n",
    "ninput = 784\n",
    "noutput = 10\n",
    "\n",
    "noofepochs = 100\n",
    "batch_size = 128\n",
    "number_images_batch = 10000\n",
    "image_shape = (32, 32, 3,)\n",
    "image_size = functools.reduce(operator.mul, image_shape)"
   ]
  },
  {
   "cell_type": "code",
   "execution_count": 4,
   "metadata": {},
   "outputs": [],
   "source": [
    "def unpickle(file):\n",
    "    import pickle\n",
    "    with open(file, 'rb') as fo:\n",
    "        dict = pickle.load(fo, encoding='bytes')\n",
    "    return dict"
   ]
  },
  {
   "cell_type": "code",
   "execution_count": 5,
   "metadata": {},
   "outputs": [
    {
     "name": "stdout",
     "output_type": "stream",
     "text": [
      "cifar-10-batches-py\\data_batch_1\n",
      "(10000, 3072)\n",
      "cifar-10-batches-py\\data_batch_2\n",
      "(10000, 3072)\n",
      "cifar-10-batches-py\\data_batch_3\n",
      "(10000, 3072)\n",
      "cifar-10-batches-py\\data_batch_4\n",
      "(10000, 3072)\n",
      "cifar-10-batches-py\\data_batch_5\n",
      "(10000, 3072)\n",
      "(50000, 3072) <class 'list'>\n",
      "50000\n"
     ]
    }
   ],
   "source": [
    "# Read all data\n",
    "alldata = np.zeros((5*number_images_batch, image_size), dtype=np.int)\n",
    "alllabels = []\n",
    "begin = 0\n",
    "end = number_images_batch\n",
    "for filename in glob.glob(os.path.join(\"cifar-10-batches-py\", \"data_batch*\")):\n",
    "    print(filename)\n",
    "    d1 = unpickle(filename)\n",
    "    labels = d1[b'labels']\n",
    "    data = d1[b'data']\n",
    "    print(data.shape)\n",
    "    alldata[begin:end,:] = data\n",
    "    alllabels.extend(labels)\n",
    "    begin = end\n",
    "    end = end+number_images_batch\n",
    "alldata = alldata.astype(np.uint8)\n",
    "print(alldata.shape, type(alllabels))\n",
    "print(len(alllabels))"
   ]
  },
  {
   "cell_type": "code",
   "execution_count": 6,
   "metadata": {},
   "outputs": [
    {
     "name": "stdout",
     "output_type": "stream",
     "text": [
      "[ 0.  0.  0.  0.  0.  0.  1.  0.  0.  0.]\n"
     ]
    }
   ],
   "source": [
    "# One-hot encode labels for all data\n",
    "alllabels = np.array(alllabels)\n",
    "alllabels_onehot = np.eye(noutput)[alllabels]\n",
    "print(alllabels_onehot[25])"
   ]
  },
  {
   "cell_type": "code",
   "execution_count": 7,
   "metadata": {},
   "outputs": [],
   "source": [
    "def randnoise(data):\n",
    "    # Add random noise from a Gaussian distribution with a mean of zero\n",
    "    # and stdev of 2. \n",
    "    noise = np.random.normal(0, 3, data.size).reshape([-1, 3072])\n",
    "    data = data+noise\n",
    "    return data\n",
    "#randnoise(alldata)"
   ]
  },
  {
   "cell_type": "code",
   "execution_count": 8,
   "metadata": {},
   "outputs": [
    {
     "name": "stdout",
     "output_type": "stream",
     "text": [
      "(128, 3072) (128, 10) [ 0.  0.  0.  0.  0.  0.  1.  0.  0.  0.] 0.0 1.0\n",
      "(32, 32, 3)\n"
     ]
    },
    {
     "data": {
      "text/plain": [
       "<matplotlib.image.AxesImage at 0xd46c198>"
      ]
     },
     "execution_count": 8,
     "metadata": {},
     "output_type": "execute_result"
    },
    {
     "data": {
      "image/png": "[encoded data removed]",
      "text/plain": [
       "<matplotlib.figure.Figure at 0xd3b0198>"
      ]
     },
     "metadata": {},
     "output_type": "display_data"
    }
   ],
   "source": [
    "def getbatch(alldata, alllabels, batch_size = 16):\n",
    "    nlabels = alllabels.shape[0]\n",
    "    number_of_batches = nlabels//batch_size # change to nlabels\n",
    "    for batch_number in range(number_of_batches):\n",
    "        rand_index = np.array([random.randrange(0, nlabels) for i in range(batch_size)])        \n",
    "        batch_x = alldata[rand_index]\n",
    "        batch_x = randnoise(batch_x)\n",
    "        batch_x = (batch_x-batch_x.min())/(batch_x.max()-batch_x.min())\n",
    "        batch_y = alllabels[rand_index]\n",
    "        yield (batch_x, batch_y)\n",
    "    \n",
    "a = getbatch(alldata, alllabels_onehot, batch_size = batch_size)\n",
    "x, y = next(a)\n",
    "print(x.shape, y.shape, y[5], x.min(), x.max())\n",
    "oneimage = x[5].reshape(3, 32, 32).transpose(1, 2, 0)\n",
    "print(oneimage.shape)\n",
    "plt.imshow(oneimage)\n",
    "#for x, y in getbatch(alldata, alllabels, batch_size = batch_size):\n",
    "#    print(x.shape, y.shape)    "
   ]
  },
  {
   "cell_type": "code",
   "execution_count": 9,
   "metadata": {},
   "outputs": [],
   "source": [
    "X = tf.placeholder(tf.float32, [None, image_size])\n",
    "Y = tf.placeholder(tf.float32, [None, noutput])"
   ]
  },
  {
   "cell_type": "code",
   "execution_count": 10,
   "metadata": {},
   "outputs": [],
   "source": [
    "weights = \\\n",
    "{\n",
    "    'h1': tf.Variable(tf.random_normal([image_size, nhidden1])),\n",
    "    'h2': tf.Variable(tf.random_normal([nhidden1, nhidden2])),\n",
    "    'h3': tf.Variable(tf.random_normal([nhidden2, nhidden3])),\n",
    "    'out': tf.Variable(tf.random_normal([nhidden3, noutput]))\n",
    "}\n",
    "\n",
    "biases = \\\n",
    "{\n",
    "    'b1': tf.Variable(tf.random_normal([nhidden1])),\n",
    "    'b2': tf.Variable(tf.random_normal([nhidden2])),\n",
    "    'b3': tf.Variable(tf.random_normal([nhidden3])),\n",
    "    'out': tf.Variable(tf.random_normal([noutput]))\n",
    "}"
   ]
  },
  {
   "cell_type": "code",
   "execution_count": 11,
   "metadata": {},
   "outputs": [],
   "source": [
    "def multiperceptron(x):\n",
    "    l1 = tf.nn.sigmoid(tf.add(tf.matmul(x, weights['h1']), biases['b1']))\n",
    "    l2 = tf.nn.sigmoid(tf.add(tf.matmul(l1, weights['h2']), biases['b2']))\n",
    "    l3 = tf.nn.sigmoid(tf.add(tf.matmul(l2, weights['h3']), biases['b3']))\n",
    "    outl = tf.add(tf.matmul(l3, weights['out']), biases['out'])\n",
    "    return outl\n",
    "    \n",
    "model = multiperceptron(X)"
   ]
  },
  {
   "cell_type": "code",
   "execution_count": 12,
   "metadata": {},
   "outputs": [],
   "source": [
    "loss = tf.reduce_mean(tf.nn.softmax_cross_entropy_with_logits(logits = model, labels=Y))\n",
    "optimizer = tf.train.AdamOptimizer(learning_rate=learningrate)\n",
    "train_min = optimizer.minimize(loss)\n",
    "\n",
    "correct_prediction = tf.equal(tf.argmax(model, 1), tf.argmax(Y, 1))\n",
    "accuracy = tf.reduce_mean(tf.cast(correct_prediction, tf.float32))\n",
    "\n",
    "# Add to tensorboard summary\n",
    "tf.summary.histogram(\"weight_1\",weights['h1'])\n",
    "tf.summary.histogram(\"weight_2\",weights['h2'])\n",
    "tf.summary.histogram(\"weight_3\",weights['h3'])\n",
    "tf.summary.scalar(\"loss\", loss)\n",
    "merged_summary_op = tf.summary.merge_all()\n",
    "filename=\"./summary_log_cifar/run\"+datetime.datetime.now().strftime(\"%Y-%m-%d-%H-%M-%S\")\n",
    "writer = tf.summary.FileWriter(filename, tf.get_default_graph())\n",
    "\n",
    "init = tf.global_variables_initializer()"
   ]
  },
  {
   "cell_type": "code",
   "execution_count": 13,
   "metadata": {},
   "outputs": [
    {
     "name": "stdout",
     "output_type": "stream",
     "text": [
      "Training Loss: 1.9344, Accuracy: 0.2812\n",
      "Training Loss: 1.9209, Accuracy: 0.3125\n",
      "Training Loss: 1.9182, Accuracy: 0.3672\n",
      "Training Loss: 1.8662, Accuracy: 0.3594\n",
      "Training Loss: 1.6807, Accuracy: 0.4297\n",
      "Training Loss: 1.7593, Accuracy: 0.3359\n",
      "Training Loss: 1.8142, Accuracy: 0.3516\n",
      "Training Loss: 1.7546, Accuracy: 0.3438\n",
      "Training Loss: 1.8746, Accuracy: 0.3125\n",
      "Training Loss: 1.7621, Accuracy: 0.3906\n",
      "Training Loss: 1.6855, Accuracy: 0.3828\n",
      "Training Loss: 1.7816, Accuracy: 0.3672\n",
      "Training Loss: 1.6393, Accuracy: 0.3672\n",
      "Training Loss: 1.6346, Accuracy: 0.4609\n",
      "Training Loss: 1.7891, Accuracy: 0.3281\n",
      "Training Loss: 1.5149, Accuracy: 0.4141\n",
      "Training Loss: 1.4936, Accuracy: 0.4531\n",
      "Training Loss: 1.4129, Accuracy: 0.4688\n",
      "Training Loss: 1.6057, Accuracy: 0.4219\n",
      "Training Loss: 1.6707, Accuracy: 0.4062\n",
      "Training Loss: 1.4638, Accuracy: 0.4766\n",
      "Training Loss: 1.6651, Accuracy: 0.4297\n",
      "Training Loss: 1.6532, Accuracy: 0.3984\n",
      "Training Loss: 1.4968, Accuracy: 0.4453\n",
      "Training Loss: 1.4572, Accuracy: 0.4531\n",
      "Training Loss: 1.4987, Accuracy: 0.4844\n",
      "Training Loss: 1.4826, Accuracy: 0.4453\n",
      "Training Loss: 1.6297, Accuracy: 0.3984\n",
      "Training Loss: 1.3812, Accuracy: 0.5156\n",
      "Training Loss: 1.2479, Accuracy: 0.6016\n",
      "Training Loss: 1.4180, Accuracy: 0.4844\n",
      "Training Loss: 1.4337, Accuracy: 0.4688\n",
      "Training Loss: 1.4569, Accuracy: 0.4688\n",
      "Training Loss: 1.4658, Accuracy: 0.4297\n",
      "Training Loss: 1.6445, Accuracy: 0.4297\n",
      "Training Loss: 1.3979, Accuracy: 0.5078\n",
      "Training Loss: 1.3175, Accuracy: 0.5547\n",
      "Training Loss: 1.4244, Accuracy: 0.4688\n",
      "Training Loss: 1.5501, Accuracy: 0.4453\n",
      "Training Loss: 1.4132, Accuracy: 0.4375\n",
      "Training Loss: 1.5222, Accuracy: 0.4688\n",
      "Training Loss: 1.4233, Accuracy: 0.4375\n",
      "Training Loss: 1.2727, Accuracy: 0.4766\n",
      "Training Loss: 1.3489, Accuracy: 0.5469\n",
      "Training Loss: 1.4062, Accuracy: 0.4766\n",
      "Training Loss: 1.4532, Accuracy: 0.4609\n",
      "Training Loss: 1.3103, Accuracy: 0.5469\n",
      "Training Loss: 1.3769, Accuracy: 0.4766\n",
      "Training Loss: 1.3457, Accuracy: 0.5625\n",
      "Training Loss: 1.4891, Accuracy: 0.4844\n",
      "Training Loss: 1.3321, Accuracy: 0.5312\n",
      "Training Loss: 1.3326, Accuracy: 0.4844\n",
      "Training Loss: 1.2329, Accuracy: 0.5547\n",
      "Training Loss: 1.2451, Accuracy: 0.5781\n",
      "Training Loss: 1.3561, Accuracy: 0.5234\n",
      "Training Loss: 1.3223, Accuracy: 0.5391\n",
      "Training Loss: 1.2325, Accuracy: 0.5625\n",
      "Training Loss: 1.5145, Accuracy: 0.4375\n",
      "Training Loss: 1.1424, Accuracy: 0.5703\n",
      "Training Loss: 1.1634, Accuracy: 0.6406\n",
      "Training Loss: 1.3913, Accuracy: 0.5312\n",
      "Training Loss: 1.2017, Accuracy: 0.5391\n",
      "Training Loss: 1.1816, Accuracy: 0.5859\n",
      "Training Loss: 1.1913, Accuracy: 0.5234\n",
      "Training Loss: 1.0560, Accuracy: 0.6172\n",
      "Training Loss: 1.2124, Accuracy: 0.5547\n",
      "Training Loss: 1.1100, Accuracy: 0.5781\n",
      "Training Loss: 1.1850, Accuracy: 0.5625\n",
      "Training Loss: 1.2186, Accuracy: 0.5547\n",
      "Training Loss: 1.2590, Accuracy: 0.5156\n",
      "Training Loss: 1.1516, Accuracy: 0.5391\n",
      "Training Loss: 1.1387, Accuracy: 0.6172\n",
      "Training Loss: 0.9874, Accuracy: 0.6797\n",
      "Training Loss: 1.2283, Accuracy: 0.5625\n",
      "Training Loss: 1.2552, Accuracy: 0.5469\n",
      "Training Loss: 1.1520, Accuracy: 0.6719\n",
      "Training Loss: 1.0232, Accuracy: 0.6641\n",
      "Training Loss: 0.9628, Accuracy: 0.6719\n",
      "Training Loss: 1.1665, Accuracy: 0.5625\n",
      "Training Loss: 0.9576, Accuracy: 0.6172\n",
      "Training Loss: 1.1329, Accuracy: 0.6328\n",
      "Training Loss: 1.2978, Accuracy: 0.5391\n",
      "Training Loss: 1.0176, Accuracy: 0.6406\n",
      "Training Loss: 1.0757, Accuracy: 0.6328\n",
      "Training Loss: 0.9957, Accuracy: 0.6719\n",
      "Training Loss: 1.1761, Accuracy: 0.6172\n",
      "Training Loss: 1.0144, Accuracy: 0.6484\n",
      "Training Loss: 1.1088, Accuracy: 0.5859\n",
      "Training Loss: 1.1509, Accuracy: 0.5938\n",
      "Training Loss: 1.1556, Accuracy: 0.5938\n",
      "Training Loss: 1.0072, Accuracy: 0.6719\n",
      "Training Loss: 0.9375, Accuracy: 0.6562\n",
      "Training Loss: 1.1369, Accuracy: 0.6250\n",
      "Training Loss: 0.9785, Accuracy: 0.6484\n",
      "Training Loss: 1.0852, Accuracy: 0.5703\n",
      "Training Loss: 0.8784, Accuracy: 0.7266\n",
      "Training Loss: 0.9992, Accuracy: 0.6094\n",
      "Training Loss: 1.0851, Accuracy: 0.6094\n",
      "Training Loss: 1.1293, Accuracy: 0.5938\n",
      "Training Loss: 0.8536, Accuracy: 0.6641\n"
     ]
    }
   ],
   "source": [
    "with tf.Session() as sess:\n",
    "    sess.run(init)    \n",
    "        \n",
    "    for epoch in range(noofepochs):\n",
    "        #count = 0\n",
    "        for batch_x, batch_y in getbatch(alldata, alllabels_onehot, batch_size = batch_size):            \n",
    "            sess.run(train_min, feed_dict={X:batch_x,Y:batch_y})\n",
    "\n",
    "        losscalc, accuracycalc, merged_summary = \\\n",
    "                      sess.run([loss, accuracy, merged_summary_op], feed_dict={X:batch_x, Y:batch_y})\n",
    "        print(\"Training Loss: %0.4f, Accuracy: %0.4f\"%(losscalc, accuracycalc))\n",
    "        writer.add_summary(merged_summary, epoch)\n",
    "        \n",
    "writer.close()"
   ]
  },
  {
   "cell_type": "markdown",
   "metadata": {},
   "source": [
    "### Loss:\n",
    "In the figure below, you will notice that the loss does not decrease as fast as it did for MNIST data set. The accuracy (66%) is very low compared to the accuracy for MNIST data set (95%+)\n",
    "\n",
    "<img src=\"results/loss_mnist.png\" height=\"200px\">\n",
    "\n",
    "### Weights: \n",
    "If you compare the various weights, you will see that the histogram of weight1 has barely changed while weight3 underwent some change. Due to vanishing gradient in sigmoid function, the gradient flowing from weight3 reduces significantly by the time it reaches weight1. Hence the weight update will be smaller in weight1 resulting in imperceptible change to histogram. Thus, weight3 has learnt in the training while weight1 has barely learnt anything beyond its initial value.\n",
    "\n",
    "\n",
    "<img src=\"results/weight1_cifar.png\" height=\"200px\">\n",
    "<img src=\"results/weight2_cifar.png\" height=\"200px\">\n",
    "<img src=\"results/weight3_cifar.png\" height=\"200px\">"
   ]
  },
  {
   "cell_type": "code",
   "execution_count": null,
   "metadata": {},
   "outputs": [],
   "source": []
  }
 ],
 "metadata": {
  "kernel_info": {
   "name": "python3"
  },
  "kernelspec": {
   "display_name": "Python 3",
   "language": "python",
   "name": "python3"
  },
  "language_info": {
   "codemirror_mode": {
    "name": "ipython",
    "version": 3
   },
   "file_extension": ".py",
   "mimetype": "text/x-python",
   "name": "python",
   "nbconvert_exporter": "python",
   "pygments_lexer": "ipython3",
   "version": "3.5.2"
  },
  "nteract": {
   "version": "0.7.1"
  },
  "widgets": {
   "state": {},
   "version": "1.1.2"
  }
 },
 "nbformat": 4,
 "nbformat_minor": 2
}
